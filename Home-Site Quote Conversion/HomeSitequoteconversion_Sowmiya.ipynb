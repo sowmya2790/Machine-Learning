{
  "nbformat": 4,
  "nbformat_minor": 0,
  "metadata": {
    "colab": {
      "name": "HomeSite-Quote-Conversion.ipynb",
      "provenance": [],
      "collapsed_sections": []
    },
    "kernelspec": {
      "name": "python3",
      "display_name": "Python 3"
    }
  },
  "cells": [
    {
      "cell_type": "code",
      "metadata": {
        "id": "cFuASWeiDMn_",
        "outputId": "9e53ae80-2c51-4445-c263-32a10f5e1e95",
        "colab": {
          "base_uri": "https://localhost:8080/",
          "height": 52
        }
      },
      "source": [
        "from google.colab import drive\n",
        "drive.mount('/gdrive')\n",
        "#Change current working directory to gdrive\n",
        "%cd /gdrive"
      ],
      "execution_count": 1,
      "outputs": [
        {
          "output_type": "stream",
          "text": [
            "Mounted at /gdrive\n",
            "/gdrive\n"
          ],
          "name": "stdout"
        }
      ]
    },
    {
      "cell_type": "code",
      "metadata": {
        "id": "Zylu1N7OC-Sv",
        "outputId": "8af7ef88-2bc0-40e7-f72f-5c96278705e7",
        "colab": {
          "base_uri": "https://localhost:8080/",
          "height": 263
        }
      },
      "source": [
        "!pip install vecstack"
      ],
      "execution_count": 2,
      "outputs": [
        {
          "output_type": "stream",
          "text": [
            "Collecting vecstack\n",
            "  Downloading https://files.pythonhosted.org/packages/d0/a1/b9a1e9e9e5a12078da1ab9788c7885e4c745358f7e57d5f94d9db6a4e898/vecstack-0.4.0.tar.gz\n",
            "Requirement already satisfied: numpy in /usr/local/lib/python3.6/dist-packages (from vecstack) (1.18.5)\n",
            "Requirement already satisfied: scipy in /usr/local/lib/python3.6/dist-packages (from vecstack) (1.4.1)\n",
            "Requirement already satisfied: scikit-learn>=0.18 in /usr/local/lib/python3.6/dist-packages (from vecstack) (0.22.2.post1)\n",
            "Requirement already satisfied: joblib>=0.11 in /usr/local/lib/python3.6/dist-packages (from scikit-learn>=0.18->vecstack) (0.16.0)\n",
            "Building wheels for collected packages: vecstack\n",
            "  Building wheel for vecstack (setup.py) ... \u001b[?25l\u001b[?25hdone\n",
            "  Created wheel for vecstack: filename=vecstack-0.4.0-cp36-none-any.whl size=19880 sha256=2bf955bf91d65892252b32c01c048701d32c0e83e21471839a7e30514bd3508c\n",
            "  Stored in directory: /root/.cache/pip/wheels/5f/bb/4e/f6488433d53bc0684673d6845e5bf11a25240577c8151c140e\n",
            "Successfully built vecstack\n",
            "Installing collected packages: vecstack\n",
            "Successfully installed vecstack-0.4.0\n"
          ],
          "name": "stdout"
        }
      ]
    },
    {
      "cell_type": "code",
      "metadata": {
        "id": "PL1PJaISDHH4",
        "outputId": "8c66dd2f-5fdf-410e-bd90-429c019e2587",
        "colab": {
          "base_uri": "https://localhost:8080/",
          "height": 107
        }
      },
      "source": [
        "from vecstack import stacking\n",
        "import pandas as pd\n",
        "import numpy as np\n",
        "from sklearn.metrics import accuracy_score #works\n",
        "from sklearn.model_selection import train_test_split\n",
        "from sklearn.ensemble import RandomForestClassifier\n",
        "from sklearn.neural_network import MLPClassifier\n",
        "from sklearn.neighbors import KNeighborsClassifier\n",
        "from sklearn import svm\n",
        "from sklearn.tree import DecisionTreeClassifier\n",
        "from sklearn.model_selection import GridSearchCV\n",
        "from sklearn.model_selection import RandomizedSearchCV\n",
        "from sklearn.model_selection import cross_val_score\n",
        "from sklearn.metrics import classification_report, confusion_matrix\n",
        "from sklearn.ensemble import GradientBoostingClassifier\n",
        "from sklearn.neural_network import MLPClassifier\n",
        "#from sklearn.ensemble import RandomForestClassifier\n",
        "from imblearn.over_sampling import SMOTE \n",
        "from sklearn.svm import SVC\n",
        "from sklearn.svm import LinearSVC\n",
        "from sklearn.preprocessing import OneHotEncoder\n",
        "from sklearn.metrics import confusion_matrix,classification_report\n",
        "\n",
        "from collections import Counter #for Smote, \n",
        "import warnings\n",
        "warnings.filterwarnings(\"ignore\")"
      ],
      "execution_count": 3,
      "outputs": [
        {
          "output_type": "stream",
          "text": [
            "/usr/local/lib/python3.6/dist-packages/sklearn/externals/six.py:31: FutureWarning: The module is deprecated in version 0.21 and will be removed in version 0.23 since we've dropped support for Python 2.7. Please rely on the official version of six (https://pypi.org/project/six/).\n",
            "  \"(https://pypi.org/project/six/).\", FutureWarning)\n",
            "/usr/local/lib/python3.6/dist-packages/sklearn/utils/deprecation.py:144: FutureWarning: The sklearn.neighbors.base module is  deprecated in version 0.22 and will be removed in version 0.24. The corresponding classes / functions should instead be imported from sklearn.neighbors. Anything that cannot be imported from sklearn.neighbors is now part of the private API.\n",
            "  warnings.warn(message, FutureWarning)\n"
          ],
          "name": "stderr"
        }
      ]
    },
    {
      "cell_type": "code",
      "metadata": {
        "id": "I8Tsr4aNCU1b",
        "outputId": "2f70b000-90cb-4217-dcac-2a66e00ea355",
        "colab": {
          "base_uri": "https://localhost:8080/",
          "height": 329
        }
      },
      "source": [
        "#import datafiles\n",
        "trainfile = r'/gdrive/My Drive/DataMining/RevisedHomesiteTrain.csv'\n",
        "train_data = pd.read_csv(trainfile)\n",
        "testfile = r'/gdrive/My Drive/DataMining/RevisedHomesiteTest.csv'\n",
        "test_data = pd.read_csv(testfile)\n",
        "\n",
        "print(train_data.shape)\n",
        "print(train_data.head()) \n",
        "\n",
        "print(test_data.shape)\n",
        "print(test_data.head())"
      ],
      "execution_count": 4,
      "outputs": [
        {
          "output_type": "stream",
          "text": [
            "(65000, 596)\n",
            "   CoverageField11A  ...  QuoteConversion_Flag\n",
            "0                 2  ...                     0\n",
            "1                 5  ...                     0\n",
            "2                 4  ...                     0\n",
            "3                15  ...                     0\n",
            "4                 4  ...                     0\n",
            "\n",
            "[5 rows x 596 columns]\n",
            "(173836, 596)\n",
            "   CoverageField11A  CoverageField11B  ...  GeographicField64_TX  GeographicField64\n",
            "0                13                22  ...                     0                 IL\n",
            "1                 4                 5  ...                     0                 NJ\n",
            "2                 3                 3  ...                     0                 NJ\n",
            "3                 5                 9  ...                     0                 TX\n",
            "4                12                21  ...                     0                 CA\n",
            "\n",
            "[5 rows x 596 columns]\n"
          ],
          "name": "stdout"
        }
      ]
    },
    {
      "cell_type": "code",
      "metadata": {
        "id": "aWYIM6xIC5Mf",
        "outputId": "ff64c373-76af-49b8-d1aa-f96670a07bf1",
        "colab": {
          "base_uri": "https://localhost:8080/",
          "height": 173
        }
      },
      "source": [
        "#Separate Train data and test data\n",
        "X_train = train_data.drop(columns=\"QuoteConversion_Flag\").copy()\n",
        "y_train = train_data[\"QuoteConversion_Flag\"].copy()\n",
        "X_test = test_data.drop(columns=\"GeographicField64\").copy()\n",
        "y_test = test_data[\"GeographicField64\"].copy()\n",
        "\n",
        "#Select just Target Column\n",
        "print(X_train.shape)\n",
        "print(X_test.head()) \n"
      ],
      "execution_count": 5,
      "outputs": [
        {
          "output_type": "stream",
          "text": [
            "(65000, 595)\n",
            "   CoverageField11A  ...  GeographicField64_TX\n",
            "0                13  ...                     0\n",
            "1                 4  ...                     0\n",
            "2                 3  ...                     0\n",
            "3                 5  ...                     0\n",
            "4                12  ...                     0\n",
            "\n",
            "[5 rows x 595 columns]\n"
          ],
          "name": "stdout"
        }
      ]
    },
    {
      "cell_type": "code",
      "metadata": {
        "id": "AtDZx-QXDnIu",
        "outputId": "5854c6ff-6204-453e-c060-5d5bd5fa536e",
        "colab": {
          "base_uri": "https://localhost:8080/",
          "height": 219
        }
      },
      "source": [
        "#Decision Tree Model\n",
        "\n",
        "clf = DecisionTreeClassifier()\n",
        "clf.fit(X_train, y_train)\n",
        "clf_predict=clf.predict(X_test)\n",
        "pred=pd.DataFrame({'QuoteNumber':test_data.QuoteNumber,'QuoteConversion_Flag':clf_predict})\n",
        "\n",
        "pred.to_csv(\"/gdrive/My Drive/DT1.csv\",index = False)\n",
        "\n",
        "res=pd.read_csv('/gdrive/My Drive/DT1.csv')\n",
        "res.head()\n",
        "\n",
        "parameters={'min_samples_split' : range(10,100,10),'max_depth': range(1,20,2)}\n",
        "clf_random = RandomizedSearchCV(clf,parameters,n_iter=15)\n",
        "clf_random.fit(X_train, y_train)\n",
        "grid_parm=clf_random.best_params_\n",
        "print(grid_parm)\n",
        "\n",
        "#Using the parameters obtained from HyperParameterTuning in the DecisionTreeClassifier \n",
        "clf = DecisionTreeClassifier(**grid_parm)\n",
        "clf.fit(X_train,y_train)\n",
        "clf_predict = clf.predict(X_test)\n",
        "\n",
        "pred=pd.DataFrame({'QuoteNumber':test_data.QuoteNumber,'QuoteConversion_Flag':clf_predict})\n",
        "\n",
        "pred.to_csv(\"/gdrive/My Drive/DT2.csv\",index = False)\n",
        "res=pd.read_csv('/gdrive/My Drive/DT2.csv')\n",
        "res.head()\n"
      ],
      "execution_count": 6,
      "outputs": [
        {
          "output_type": "stream",
          "text": [
            "{'min_samples_split': 70, 'max_depth': 5}\n"
          ],
          "name": "stdout"
        },
        {
          "output_type": "execute_result",
          "data": {
            "text/html": [
              "<div>\n",
              "<style scoped>\n",
              "    .dataframe tbody tr th:only-of-type {\n",
              "        vertical-align: middle;\n",
              "    }\n",
              "\n",
              "    .dataframe tbody tr th {\n",
              "        vertical-align: top;\n",
              "    }\n",
              "\n",
              "    .dataframe thead th {\n",
              "        text-align: right;\n",
              "    }\n",
              "</style>\n",
              "<table border=\"1\" class=\"dataframe\">\n",
              "  <thead>\n",
              "    <tr style=\"text-align: right;\">\n",
              "      <th></th>\n",
              "      <th>QuoteNumber</th>\n",
              "      <th>QuoteConversion_Flag</th>\n",
              "    </tr>\n",
              "  </thead>\n",
              "  <tbody>\n",
              "    <tr>\n",
              "      <th>0</th>\n",
              "      <td>3</td>\n",
              "      <td>0</td>\n",
              "    </tr>\n",
              "    <tr>\n",
              "      <th>1</th>\n",
              "      <td>5</td>\n",
              "      <td>0</td>\n",
              "    </tr>\n",
              "    <tr>\n",
              "      <th>2</th>\n",
              "      <td>7</td>\n",
              "      <td>0</td>\n",
              "    </tr>\n",
              "    <tr>\n",
              "      <th>3</th>\n",
              "      <td>9</td>\n",
              "      <td>0</td>\n",
              "    </tr>\n",
              "    <tr>\n",
              "      <th>4</th>\n",
              "      <td>10</td>\n",
              "      <td>0</td>\n",
              "    </tr>\n",
              "  </tbody>\n",
              "</table>\n",
              "</div>"
            ],
            "text/plain": [
              "   QuoteNumber  QuoteConversion_Flag\n",
              "0            3                     0\n",
              "1            5                     0\n",
              "2            7                     0\n",
              "3            9                     0\n",
              "4           10                     0"
            ]
          },
          "metadata": {
            "tags": []
          },
          "execution_count": 6
        }
      ]
    },
    {
      "cell_type": "code",
      "metadata": {
        "id": "VS6QXJUAEW5_"
      },
      "source": [
        "#Random Forest Classifier\n",
        "rfc = RandomForestClassifier()\n",
        "rfc.fit(X_train, y_train)\n",
        "rfc_predict = rfc.predict(X_test)\n",
        "\n",
        "\n",
        "pred=pd.DataFrame({'QuoteNumber':test_data.QuoteNumber,'QuoteConversion_Flag':rfc_predict})\n",
        "pred.to_csv(\"/gdrive/My Drive/RF1.csv\")\n",
        "\n",
        "res=pd.read_csv('/gdrive/My Drive/RF1.csv')\n",
        "res.head()\n",
        "\n",
        "parameters={ 'n_estimators': range(50,150,20),'min_samples_split' : range(10,100,10),'max_depth': range(1,20,2)}\n",
        "rfc_random = RandomizedSearchCV(rfc,parameters,n_iter=15)\n",
        "rfc_random.fit(X_train, y_train)\n",
        "grid_parm_rfc=rfc_random.best_params_\n",
        "print(grid_parm_rfc)\n",
        "\n",
        "#contruct random forest using the best parameters\n",
        "rfc= RandomForestClassifier(**grid_parm_rfc)\n",
        "rfc.fit(X_train,y_train)\n",
        "rfc_predict = rfc.predict(X_test)\n",
        "\n",
        "pred=pd.DataFrame({'QuoteNumber':test_data.QuoteNumber,'QuoteConversion_Flag':rfc_predict})\n",
        "pred.to_csv(\"/gdrive/My Drive/RF2.csv\")\n",
        "res=pd.read_csv('/gdrive/My Drive/RF2.csv')\n",
        "res.head()"
      ],
      "execution_count": null,
      "outputs": []
    },
    {
      "cell_type": "code",
      "metadata": {
        "id": "0a2oYCfIEvjX"
      },
      "source": [
        "#Gradient Boosting Classifier\n",
        "search_grid={'n_estimators':[5,10,20, 30, 50],'learning_rate':[0.01,.1]}\n",
        "abc =GradientBoostingClassifier()\n",
        "abc.fit(X_train, y_train)\n",
        "abc_predict=abc.predict(X_test)\n",
        "\n",
        "pred=pd.DataFrame({'QuoteNumber':test_data.QuoteNumber,'QuoteConversion_Flag':abc_predict})\n",
        "pred.to_csv(\"/gdrive/My Drive/GB1.csv\")\n",
        "\n",
        "res=pd.read_csv('/gdrive/My Drive/GB1.csv')\n",
        "res.head()\n",
        "\n",
        "#Randomized Search for hyperparameter tuning\n",
        "abc_random = RandomizedSearchCV(abc,search_grid,n_iter=15)\n",
        "abc_random.fit(X_train, y_train)\n",
        "grid_parm_abc=abc_random.best_params_\n",
        "print(grid_parm_abc)\n",
        "\n",
        "#Construct Gradient Boosting Trees using the best parameters\n",
        "abc= GradientBoostingClassifier(**grid_parm_abc)\n",
        "abc.fit(X_train,y_train)\n",
        "abc_predict = abc.predict(X_test)\n",
        "\n",
        "\n",
        "pred=pd.DataFrame({'QuoteNumber':test_data.QuoteNumber,'QuoteConversion_Flag':abc_predict})\n",
        "pred.to_csv(\"/gdrive/My Drive/GB2.csv\")\n",
        "res=pd.read_csv('/gdrive/My Drive/GB2.csv')\n",
        "res.head()\n",
        "\n",
        "#run cross-validation on best parameters, get auc score\n",
        "abc_cv_score = cross_val_score(abc, X_train, y_train, cv=10, scoring=\"roc_auc\")\n",
        "print(\"=== All AUC Scores ===\")\n",
        "print(abc_cv_score)\n",
        "print('\\n')\n",
        "print(\"=== Mean AUC Score ===\")\n",
        "print(\"Mean AUC Score - Boosting: \",abc_cv_score.mean())\n"
      ],
      "execution_count": null,
      "outputs": []
    },
    {
      "cell_type": "code",
      "metadata": {
        "id": "nO7A5bTYFLcj"
      },
      "source": [
        "#MultiLayer Perceptron\n",
        "mlp = MLPClassifier()\n",
        "mlp.fit(X_train, y_train)\n",
        "mlp_predict=mlp.predict(X_test)\n",
        "pred=pd.DataFrame({'QuoteNumber':test_data.QuoteNumber,'QuoteConversion_Flag':mlp_predict})\n",
        "pred.to_csv(\"/gdrive/My Drive/MLP.csv\")\n",
        "res=pd.read_csv('/gdrive/My Drive/MLP.csv')\n",
        "res.head()"
      ],
      "execution_count": null,
      "outputs": []
    },
    {
      "cell_type": "code",
      "metadata": {
        "id": "hexD_PqqGYOd"
      },
      "source": [
        "#SVC Linear\n",
        "\n",
        "svc = LinearSVC()\n",
        "svc.fit(X_train, y_train)\n",
        "svc_predict=svc.predict(X_test)\n",
        "\n",
        "\n",
        "pred=pd.DataFrame({'QuoteNumber':test_data.QuoteNumber,'QuoteConversion_Flag':svc_predict})\n",
        "\n",
        "pred.to_csv(\"/gdrive/My Drive/SVC.csv\")\n",
        "res=pd.read_csv('/gdrive/My Drive/SVC.csv')\n",
        "\n",
        "res.head()"
      ],
      "execution_count": null,
      "outputs": []
    },
    {
      "cell_type": "code",
      "metadata": {
        "id": "Rf6-_G8HGtDc"
      },
      "source": [
        "#KNN Classifier\n",
        "knc = KNeighborsClassifier()\n",
        "knc.fit(X_train, y_train)\n",
        "knc_predict = knc.predict(X_test)\n",
        "print(accuracy_score(y_test,knc_predict))\n",
        "\n",
        "\n",
        "pred=pd.DataFrame({'QuoteNumber':test_data.QuoteNumber,'QuoteConversion_Flag':knc_predict})\n",
        "\n",
        "pred.to_csv(\"/gdrive/My Drive/KNN.csv\")\n",
        "res=pd.read_csv('/gdrive/My Drive/KNN.csv')res.head()"
      ],
      "execution_count": null,
      "outputs": []
    },
    {
      "cell_type": "code",
      "metadata": {
        "id": "ruN11FXJHCLP",
        "outputId": "391b8c74-5472-4c06-8fb4-ba4aa2eb477f",
        "colab": {
          "base_uri": "https://localhost:8080/",
          "height": 104
        }
      },
      "source": [
        "#SMOTE\n",
        "print(\"___________________________________________________________________\\nSMOTE\\n\")\n",
        "print('Original dataset shape %s' % Counter(y_train))\n",
        "sm = SMOTE(sampling_strategy='float', ratio=0.5)\n",
        "X_res, y_res = sm.fit_resample(X_train, y_train)\n",
        "print('Resampled dataset shape %s' % Counter(y_res))"
      ],
      "execution_count": 8,
      "outputs": [
        {
          "output_type": "stream",
          "text": [
            "___________________________________________________________________\n",
            "SMOTE\n",
            "\n",
            "Original dataset shape Counter({0: 52738, 1: 12262})\n",
            "Resampled dataset shape Counter({0: 52738, 1: 26369})\n"
          ],
          "name": "stdout"
        }
      ]
    },
    {
      "cell_type": "code",
      "metadata": {
        "id": "rbAD1DUtNUjs",
        "outputId": "02121fcb-1625-4a8f-d2b5-d77bec560116",
        "colab": {
          "base_uri": "https://localhost:8080/",
          "height": 901
        }
      },
      "source": [
        "#Stacking Models\n",
        "\n",
        "models = [ DecisionTreeClassifier(),GradientBoostingClassifier(), MLPClassifier(),KNeighborsClassifier(),LinearSVC() ]\n",
        "      \n",
        "S_Train, S_Test = stacking(models,                   \n",
        "                           X_res, y_res, X_test,   \n",
        "                           regression=False, \n",
        "     \n",
        "                           mode='oof_pred_bag', \n",
        "       \n",
        "                           needs_proba=False,\n",
        "         \n",
        "                           save_dir=None, \n",
        "            \n",
        "                           metric=accuracy_score, \n",
        "    \n",
        "                           n_folds=4, \n",
        "                 \n",
        "                           stratified=True,\n",
        "            \n",
        "                           shuffle=True,  \n",
        "            \n",
        "                           random_state=0,    \n",
        "         \n",
        "                           verbose=2)"
      ],
      "execution_count": 9,
      "outputs": [
        {
          "output_type": "stream",
          "text": [
            "task:         [classification]\n",
            "n_classes:    [2]\n",
            "metric:       [accuracy_score]\n",
            "mode:         [oof_pred_bag]\n",
            "n_models:     [5]\n",
            "\n",
            "model  0:     [DecisionTreeClassifier]\n",
            "    fold  0:  [0.89968145]\n",
            "    fold  1:  [0.90256358]\n",
            "    fold  2:  [0.90114780]\n",
            "    fold  3:  [0.90402508]\n",
            "    ----\n",
            "    MEAN:     [0.90185448] + [0.00161522]\n",
            "    FULL:     [0.90185445]\n",
            "\n",
            "model  1:     [GradientBoostingClassifier]\n",
            "    fold  0:  [0.93558174]\n",
            "    fold  1:  [0.93254791]\n",
            "    fold  2:  [0.93563230]\n",
            "    fold  3:  [0.93542678]\n",
            "    ----\n",
            "    MEAN:     [0.93479718] + [0.00130082]\n",
            "    FULL:     [0.93479717]\n",
            "\n",
            "model  2:     [MLPClassifier]\n",
            "    fold  0:  [0.82686960]\n",
            "    fold  1:  [0.79734034]\n",
            "    fold  2:  [0.83612277]\n",
            "    fold  3:  [0.79940332]\n",
            "    ----\n",
            "    MEAN:     [0.81493401] + [0.01689794]\n",
            "    FULL:     [0.81493420]\n",
            "\n",
            "model  3:     [KNeighborsClassifier]\n",
            "    fold  0:  [0.70000506]\n",
            "    fold  1:  [0.69636446]\n",
            "    fold  2:  [0.69737574]\n",
            "    fold  3:  [0.69614684]\n",
            "    ----\n",
            "    MEAN:     [0.69747303] + [0.00153365]\n",
            "    FULL:     [0.69747304]\n",
            "\n",
            "model  4:     [LinearSVC]\n",
            "    fold  0:  [0.66759367]\n",
            "    fold  1:  [0.67765586]\n",
            "    fold  2:  [0.61622086]\n",
            "    fold  3:  [0.60396440]\n",
            "    ----\n",
            "    MEAN:     [0.64135870] + [0.03176477]\n",
            "    FULL:     [0.64135917]\n",
            "\n"
          ],
          "name": "stdout"
        }
      ]
    },
    {
      "cell_type": "code",
      "metadata": {
        "id": "GNSBL-rENeH1"
      },
      "source": [
        "#STACKING - CONTRUCT A GRADIENT BOOSTING MODEL==============================\n",
        "model = GradientBoostingClassifier()\n",
        "    \n",
        "model = model.fit(S_Train, y_res)\n",
        "y_pred = model.predict(S_Test)\n"
      ],
      "execution_count": 10,
      "outputs": []
    },
    {
      "cell_type": "code",
      "metadata": {
        "id": "GRERUh7DNhph",
        "outputId": "f4a12086-a93f-441e-b599-c49531dc210e",
        "colab": {
          "base_uri": "https://localhost:8080/",
          "height": 202
        }
      },
      "source": [
        "\n",
        "pred=pd.DataFrame({'QuoteNumber':test_data.QuoteNumber,'QuoteConversion_Flag':y_pred})\n",
        "pred.to_csv(\"/gdrive/My Drive/finalsub.csv\",index = False)\n",
        "res=pd.read_csv('/gdrive/My Drive/finalsub.csv')\n",
        "res.head()\n"
      ],
      "execution_count": 11,
      "outputs": [
        {
          "output_type": "execute_result",
          "data": {
            "text/html": [
              "<div>\n",
              "<style scoped>\n",
              "    .dataframe tbody tr th:only-of-type {\n",
              "        vertical-align: middle;\n",
              "    }\n",
              "\n",
              "    .dataframe tbody tr th {\n",
              "        vertical-align: top;\n",
              "    }\n",
              "\n",
              "    .dataframe thead th {\n",
              "        text-align: right;\n",
              "    }\n",
              "</style>\n",
              "<table border=\"1\" class=\"dataframe\">\n",
              "  <thead>\n",
              "    <tr style=\"text-align: right;\">\n",
              "      <th></th>\n",
              "      <th>QuoteNumber</th>\n",
              "      <th>QuoteConversion_Flag</th>\n",
              "    </tr>\n",
              "  </thead>\n",
              "  <tbody>\n",
              "    <tr>\n",
              "      <th>0</th>\n",
              "      <td>3</td>\n",
              "      <td>0</td>\n",
              "    </tr>\n",
              "    <tr>\n",
              "      <th>1</th>\n",
              "      <td>5</td>\n",
              "      <td>0</td>\n",
              "    </tr>\n",
              "    <tr>\n",
              "      <th>2</th>\n",
              "      <td>7</td>\n",
              "      <td>0</td>\n",
              "    </tr>\n",
              "    <tr>\n",
              "      <th>3</th>\n",
              "      <td>9</td>\n",
              "      <td>0</td>\n",
              "    </tr>\n",
              "    <tr>\n",
              "      <th>4</th>\n",
              "      <td>10</td>\n",
              "      <td>0</td>\n",
              "    </tr>\n",
              "  </tbody>\n",
              "</table>\n",
              "</div>"
            ],
            "text/plain": [
              "   QuoteNumber  QuoteConversion_Flag\n",
              "0            3                     0\n",
              "1            5                     0\n",
              "2            7                     0\n",
              "3            9                     0\n",
              "4           10                     0"
            ]
          },
          "metadata": {
            "tags": []
          },
          "execution_count": 11
        }
      ]
    }
  ]
}